{
 "cells": [
  {
   "cell_type": "code",
   "execution_count": 2,
   "id": "adef9e8a",
   "metadata": {},
   "outputs": [],
   "source": [
    "from src.imnfs.model import RNF,NFSet\n",
    "import numpy as np\n",
    "import random"
   ]
  },
  {
   "cell_type": "markdown",
   "id": "8a41d1a4",
   "metadata": {},
   "source": [
    "# data test"
   ]
  },
  {
   "cell_type": "code",
   "execution_count": 3,
   "id": "e7344bdd",
   "metadata": {},
   "outputs": [],
   "source": [
    "def nf(o,c):\n",
    "#    o = int(input(\"Number of objects: \"))\n",
    "#    c = int(input(\"Number of criteria: \"))\n",
    "#    s = int(input(\"Seed: \"))\n",
    "    random.seed(7)\n",
    "    out = []\n",
    "    for i in range(c):\n",
    "        out_c = []\n",
    "        for j in range(o):\n",
    "            out_o = []\n",
    "            for k in range(4):\n",
    "                if k == 0:\n",
    "                    out_o.append(random.randint(1,9)/10)\n",
    "                else:\n",
    "                    out_o.append(random.randint(1,9)/10)\n",
    "            out_c.append(out_o)\n",
    "        out.append(out_c)\n",
    "    return out"
   ]
  },
  {
   "cell_type": "code",
   "execution_count": 4,
   "id": "bd998293",
   "metadata": {},
   "outputs": [
    {
     "name": "stdout",
     "output_type": "stream",
     "text": [
      "[[[0.6 0.3 0.7 0.1]\n",
      "  [0.2 0.9 0.2 0.6]\n",
      "  [0.1 0.9 0.4 0.1]\n",
      "  [0.2 0.7 0.7 0.2]]\n",
      "\n",
      " [[0.4 0.2 0.9 0.7]\n",
      "  [0.1 0.2 0.4 0.1]\n",
      "  [0.7 0.1 0.4 0.1]\n",
      "  [0.9 0.3 0.5 0.7]]\n",
      "\n",
      " [[0.3 0.9 0.2 0.5]\n",
      "  [0.9 0.3 0.2 0.4]\n",
      "  [0.6 0.2 0.9 0.2]\n",
      "  [0.1 0.4 0.8 0.9]]\n",
      "\n",
      " [[0.7 0.6 0.8 0.8]\n",
      "  [0.6 0.5 0.4 0.3]\n",
      "  [0.4 0.2 0.5 0.9]\n",
      "  [0.8 0.6 0.8 0.5]]\n",
      "\n",
      " [[0.2 0.2 0.9 0.7]\n",
      "  [0.3 0.6 0.3 0.8]\n",
      "  [0.7 0.1 0.2 0.9]\n",
      "  [0.6 0.6 0.6 0.8]]]\n"
     ]
    }
   ],
   "source": [
    "ip = nf(4,5) \n",
    "print(np.array(ip))"
   ]
  },
  {
   "cell_type": "code",
   "execution_count": 5,
   "id": "85521c51",
   "metadata": {},
   "outputs": [],
   "source": [
    "def neg(a):\n",
    "    out = []\n",
    "    for i in range(len(a)):\n",
    "        out.append([1-j for j in a[i]])\n",
    "    return out\n",
    "#########\n",
    "def rnf(a,m):\n",
    "    out = []\n",
    "    for i in range(len(a)):\n",
    "        if i in m:\n",
    "            out.append(neg(a[i]))\n",
    "        else:\n",
    "            out.append(a[i])\n",
    "    return out"
   ]
  },
  {
   "cell_type": "code",
   "execution_count": 6,
   "id": "b758fdff",
   "metadata": {},
   "outputs": [
    {
     "data": {
      "text/plain": [
       "[[[0.6, 0.3, 0.7, 0.1],\n",
       "  [0.2, 0.9, 0.2, 0.6],\n",
       "  [0.1, 0.9, 0.4, 0.1],\n",
       "  [0.2, 0.7, 0.7, 0.2]],\n",
       " [[0.4, 0.2, 0.9, 0.7],\n",
       "  [0.1, 0.2, 0.4, 0.1],\n",
       "  [0.7, 0.1, 0.4, 0.1],\n",
       "  [0.9, 0.3, 0.5, 0.7]],\n",
       " [[0.3, 0.9, 0.2, 0.5],\n",
       "  [0.9, 0.3, 0.2, 0.4],\n",
       "  [0.6, 0.2, 0.9, 0.2],\n",
       "  [0.1, 0.4, 0.8, 0.9]],\n",
       " [[0.30000000000000004, 0.4, 0.19999999999999996, 0.19999999999999996],\n",
       "  [0.4, 0.5, 0.6, 0.7],\n",
       "  [0.6, 0.8, 0.5, 0.09999999999999998],\n",
       "  [0.19999999999999996, 0.4, 0.19999999999999996, 0.5]],\n",
       " [[0.2, 0.2, 0.9, 0.7],\n",
       "  [0.3, 0.6, 0.3, 0.8],\n",
       "  [0.7, 0.1, 0.2, 0.9],\n",
       "  [0.6, 0.6, 0.6, 0.8]]]"
      ]
     },
     "execution_count": 6,
     "metadata": {},
     "output_type": "execute_result"
    }
   ],
   "source": [
    "cost = [3]  # Complement first and third matrices\n",
    "mat = rnf(ip, cost)\n",
    "mat"
   ]
  },
  {
   "cell_type": "code",
   "execution_count": 7,
   "id": "90cc008c",
   "metadata": {},
   "outputs": [],
   "source": [
    "temp =  NFSet(data= ip)"
   ]
  },
  {
   "cell_type": "code",
   "execution_count": 8,
   "id": "cd7db6eb",
   "metadata": {},
   "outputs": [],
   "source": [
    "rnf = RNF(temp, cost= cost)"
   ]
  },
  {
   "cell_type": "code",
   "execution_count": 9,
   "id": "6ecaa878",
   "metadata": {},
   "outputs": [
    {
     "data": {
      "text/plain": [
       "array([[[0.6, 0.3, 0.7, 0.1],\n",
       "        [0.2, 0.9, 0.2, 0.6],\n",
       "        [0.1, 0.9, 0.4, 0.1],\n",
       "        [0.2, 0.7, 0.7, 0.2]],\n",
       "\n",
       "       [[0.4, 0.2, 0.9, 0.7],\n",
       "        [0.1, 0.2, 0.4, 0.1],\n",
       "        [0.7, 0.1, 0.4, 0.1],\n",
       "        [0.9, 0.3, 0.5, 0.7]],\n",
       "\n",
       "       [[0.3, 0.9, 0.2, 0.5],\n",
       "        [0.9, 0.3, 0.2, 0.4],\n",
       "        [0.6, 0.2, 0.9, 0.2],\n",
       "        [0.1, 0.4, 0.8, 0.9]],\n",
       "\n",
       "       [[0.3, 0.4, 0.2, 0.2],\n",
       "        [0.4, 0.5, 0.6, 0.7],\n",
       "        [0.6, 0.8, 0.5, 0.1],\n",
       "        [0.2, 0.4, 0.2, 0.5]],\n",
       "\n",
       "       [[0.2, 0.2, 0.9, 0.7],\n",
       "        [0.3, 0.6, 0.3, 0.8],\n",
       "        [0.7, 0.1, 0.2, 0.9],\n",
       "        [0.6, 0.6, 0.6, 0.8]]])"
      ]
     },
     "execution_count": 9,
     "metadata": {},
     "output_type": "execute_result"
    }
   ],
   "source": [
    "rnf.data"
   ]
  }
 ],
 "metadata": {
  "kernelspec": {
   "display_name": "imnfs-_8QZs1E0-py3.11",
   "language": "python",
   "name": "python3"
  },
  "language_info": {
   "codemirror_mode": {
    "name": "ipython",
    "version": 3
   },
   "file_extension": ".py",
   "mimetype": "text/x-python",
   "name": "python",
   "nbconvert_exporter": "python",
   "pygments_lexer": "ipython3",
   "version": "3.11.9"
  }
 },
 "nbformat": 4,
 "nbformat_minor": 5
}
