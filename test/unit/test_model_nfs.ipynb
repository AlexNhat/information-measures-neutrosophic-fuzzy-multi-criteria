{
 "cells": [
  {
   "cell_type": "code",
   "execution_count": 3,
   "id": "98600db5",
   "metadata": {},
   "outputs": [],
   "source": [
    "from src.imnfs.model import NFSet"
   ]
  },
  {
   "cell_type": "code",
   "execution_count": 4,
   "id": "85591d22",
   "metadata": {},
   "outputs": [
    {
     "name": "stdout",
     "output_type": "stream",
     "text": [
      "Is subset: False\n",
      "Complement of a:\n",
      " NFSet(\n",
      "[[0.7 0.5 0.6 0.8]\n",
      " [0.2 0.6 0.5 0.3]\n",
      " [0.4 0.2 0.3 0.9]\n",
      " [0.5 0.6 0.6 0.1]]\n",
      ")\n",
      "Intersection:\n",
      " NFSet(\n",
      "[[0.3 0.3 0.4 0.9]\n",
      " [0.2 0.1 0.5 0.7]\n",
      " [0.4 0.2 0.8 0.2]\n",
      " [0.5 0.1 0.4 0.6]]\n",
      ")\n",
      "Union:\n",
      " NFSet(\n",
      "[[0.8 0.8 0.2 0.5]\n",
      " [0.8 0.3 0.5 0.6]\n",
      " [0.6 0.9 0.7 0.1]\n",
      " [0.6 0.5 0.3 0.4]]\n",
      ")\n"
     ]
    }
   ],
   "source": [
    "a_data = [\n",
    "    [0.3, 0.8, 0.4, 0.5],\n",
    "    [0.8, 0.3, 0.5, 0.6],\n",
    "    [0.6, 0.9, 0.7, 0.2],\n",
    "    [0.5, 0.1, 0.4, 0.6]\n",
    "]\n",
    "\n",
    "b_data = [\n",
    "    [0.8, 0.3, 0.2, 0.9],\n",
    "    [0.2, 0.1, 0.5, 0.7],\n",
    "    [0.4, 0.2, 0.8, 0.1],\n",
    "    [0.6, 0.5, 0.3, 0.4]\n",
    "]\n",
    "\n",
    "a = NFSet(a_data)\n",
    "b = NFSet(b_data)\n",
    "\n",
    "print(\"Is subset:\", a.issubset(b))\n",
    "print(\"Complement of a:\\n\", a.complement())\n",
    "print(\"Intersection:\\n\", a.intersection(b))\n",
    "print(\"Union:\\n\", a.union(b))\n"
   ]
  }
 ],
 "metadata": {
  "kernelspec": {
   "display_name": "imnfs-_8QZs1E0-py3.11",
   "language": "python",
   "name": "python3"
  },
  "language_info": {
   "codemirror_mode": {
    "name": "ipython",
    "version": 3
   },
   "file_extension": ".py",
   "mimetype": "text/x-python",
   "name": "python",
   "nbconvert_exporter": "python",
   "pygments_lexer": "ipython3",
   "version": "3.11.9"
  }
 },
 "nbformat": 4,
 "nbformat_minor": 5
}
