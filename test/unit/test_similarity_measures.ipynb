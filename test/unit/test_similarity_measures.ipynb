{
 "cells": [
  {
   "cell_type": "code",
   "execution_count": 2,
   "id": "943a6db1",
   "metadata": {},
   "outputs": [],
   "source": [
    "import numpy as np\n",
    "from imnfs.measures import get_measures\n",
    "from imnfs.measures.similarity import Similarity1, Similarity2, Similarity3, Similarity4, \\\n",
    "    Similarity5, Similarity6, Similarity7, Similarity8, Similarity9\n"
   ]
  },
  {
   "cell_type": "markdown",
   "id": "b07566cf",
   "metadata": {},
   "source": [
    "# Hiển thị công thức từ 1 -> 9"
   ]
  },
  {
   "cell_type": "code",
   "execution_count": 3,
   "id": "89c6b1cb",
   "metadata": {},
   "outputs": [
    {
     "data": {
      "text/latex": [
       "$$ \\displaystyle \\mathrm{Similarity\\_1}(a, b) = \\frac{\\sqrt{ 2 } + 1}{4} \\cdot \\mathopen{}\\left( \\sqrt{ 2 } \\cdot \\sum \\cos \\mathopen{}\\left( \\frac{\\Delta \\mathopen{}\\left( a, b \\mathclose{}\\right) \\cdot π}{4} \\mathclose{}\\right) - 4 \\mathclose{}\\right) $$"
      ],
      "text/plain": [
       "<latexify.ipython_wrappers.LatexifiedFunction at 0x1afbcfc9bd0>"
      ]
     },
     "execution_count": 3,
     "metadata": {},
     "output_type": "execute_result"
    }
   ],
   "source": [
    "sim1  = Similarity1.compute\n",
    "sim1"
   ]
  },
  {
   "cell_type": "code",
   "execution_count": 4,
   "id": "03ee0933",
   "metadata": {},
   "outputs": [
    {
     "data": {
      "text/latex": [
       "$$ \\displaystyle \\mathrm{Similarity\\_2}(a, b) = 1 - \\frac{\\sum \\mathopen{}\\left| \\Delta \\mathopen{}\\left( a, b \\mathclose{}\\right) \\mathclose{}\\right|}{4} $$"
      ],
      "text/plain": [
       "<latexify.ipython_wrappers.LatexifiedFunction at 0x1afbd059250>"
      ]
     },
     "execution_count": 4,
     "metadata": {},
     "output_type": "execute_result"
    }
   ],
   "source": [
    "sim2  = Similarity2.compute\n",
    "sim2"
   ]
  },
  {
   "cell_type": "code",
   "execution_count": 5,
   "id": "43f44400",
   "metadata": {},
   "outputs": [
    {
     "data": {
      "text/latex": [
       "$$ \\displaystyle \\mathrm{Similarity\\_3}(a, b) = \\log_2 \\mathopen{}\\left( 2 - \\frac{\\sum \\mathopen{}\\left| \\Delta \\mathopen{}\\left( a, b \\mathclose{}\\right) \\mathclose{}\\right|}{4} \\mathclose{}\\right) $$"
      ],
      "text/plain": [
       "<latexify.ipython_wrappers.LatexifiedFunction at 0x1afbceed5d0>"
      ]
     },
     "execution_count": 5,
     "metadata": {},
     "output_type": "execute_result"
    }
   ],
   "source": [
    "sim3  = Similarity3.compute\n",
    "sim3"
   ]
  },
  {
   "cell_type": "code",
   "execution_count": 6,
   "id": "7dd08c73",
   "metadata": {},
   "outputs": [
    {
     "data": {
      "text/latex": [
       "$$ \\displaystyle \\mathrm{Similarity\\_3}(a, b) = \\log_2 \\mathopen{}\\left( 2 - \\frac{\\sum \\mathopen{}\\left| \\Delta \\mathopen{}\\left( a, b \\mathclose{}\\right) \\mathclose{}\\right|}{4} \\mathclose{}\\right) $$"
      ],
      "text/plain": [
       "<latexify.ipython_wrappers.LatexifiedFunction at 0x1afbceed5d0>"
      ]
     },
     "execution_count": 6,
     "metadata": {},
     "output_type": "execute_result"
    }
   ],
   "source": [
    "sim4  = Similarity3.compute\n",
    "sim4"
   ]
  },
  {
   "cell_type": "code",
   "execution_count": 7,
   "id": "7b23c6e8",
   "metadata": {},
   "outputs": [
    {
     "data": {
      "text/latex": [
       "$$ \\displaystyle \\mathrm{Similarity\\_5}(a, b) = \\frac{e^{\\frac{-\\sum \\mathopen{}\\left| \\Delta \\mathopen{}\\left( a, b \\mathclose{}\\right) \\mathclose{}\\right|}{4}} - e^{-1}}{1 - e^{-1}} $$"
      ],
      "text/plain": [
       "<latexify.ipython_wrappers.LatexifiedFunction at 0x1afbcfbef50>"
      ]
     },
     "execution_count": 7,
     "metadata": {},
     "output_type": "execute_result"
    }
   ],
   "source": [
    "sim5  = Similarity5.compute\n",
    "sim5"
   ]
  },
  {
   "cell_type": "code",
   "execution_count": 8,
   "id": "fdc8f695",
   "metadata": {},
   "outputs": [
    {
     "data": {
      "text/latex": [
       "$$ \\displaystyle \\mathrm{Similarity\\_6}(a, b) = 1 - \\sin \\mathopen{}\\left( \\frac{\\sum \\mathopen{}\\left| \\Delta \\mathopen{}\\left( a, b \\mathclose{}\\right) \\mathclose{}\\right| \\cdot π}{8} \\mathclose{}\\right) $$"
      ],
      "text/plain": [
       "<latexify.ipython_wrappers.LatexifiedFunction at 0x1afbcdc00d0>"
      ]
     },
     "execution_count": 8,
     "metadata": {},
     "output_type": "execute_result"
    }
   ],
   "source": [
    "sim6  = Similarity6.compute\n",
    "sim6"
   ]
  },
  {
   "cell_type": "code",
   "execution_count": 9,
   "id": "f89861c8",
   "metadata": {},
   "outputs": [
    {
     "data": {
      "text/latex": [
       "$$ \\displaystyle \\mathrm{Similarity\\_7}(a, b) = \\cos \\mathopen{}\\left( \\frac{\\sum \\mathopen{}\\left| \\Delta \\mathopen{}\\left( a, b \\mathclose{}\\right) \\mathclose{}\\right| \\cdot π}{8} \\mathclose{}\\right) $$"
      ],
      "text/plain": [
       "<latexify.ipython_wrappers.LatexifiedFunction at 0x1afaec5fc50>"
      ]
     },
     "execution_count": 9,
     "metadata": {},
     "output_type": "execute_result"
    }
   ],
   "source": [
    "sim7  = Similarity7.compute\n",
    "sim7"
   ]
  },
  {
   "cell_type": "code",
   "execution_count": 10,
   "id": "c1dfaa14",
   "metadata": {},
   "outputs": [
    {
     "data": {
      "text/latex": [
       "$$ \\displaystyle \\mathrm{Similarity\\_8}(a, b) = 1 - \\tan \\mathopen{}\\left( \\frac{\\sum \\mathopen{}\\left| \\Delta \\mathopen{}\\left( a, b \\mathclose{}\\right) \\mathclose{}\\right| \\cdot π}{16} \\mathclose{}\\right) $$"
      ],
      "text/plain": [
       "<latexify.ipython_wrappers.LatexifiedFunction at 0x1afbce7b4d0>"
      ]
     },
     "execution_count": 10,
     "metadata": {},
     "output_type": "execute_result"
    }
   ],
   "source": [
    "sim8  = Similarity8.compute\n",
    "sim8"
   ]
  },
  {
   "cell_type": "code",
   "execution_count": 11,
   "id": "44b6fc96",
   "metadata": {},
   "outputs": [
    {
     "data": {
      "text/latex": [
       "$$ \\displaystyle \\mathrm{Similarity\\_9}(a, b) = \\cot \\mathopen{}\\left( \\frac{π}{4} + \\frac{\\sum \\mathopen{}\\left| \\Delta \\mathopen{}\\left( a, b \\mathclose{}\\right) \\mathclose{}\\right| \\cdot π}{16} \\mathclose{}\\right) $$"
      ],
      "text/plain": [
       "<latexify.ipython_wrappers.LatexifiedFunction at 0x1afbcdb0d10>"
      ]
     },
     "execution_count": 11,
     "metadata": {},
     "output_type": "execute_result"
    }
   ],
   "source": [
    "sim9  = Similarity9.compute\n",
    "sim9"
   ]
  },
  {
   "cell_type": "markdown",
   "id": "a2e03eaf",
   "metadata": {},
   "source": [
    "# Tính toán"
   ]
  },
  {
   "cell_type": "code",
   "execution_count": 12,
   "id": "2466e05b",
   "metadata": {},
   "outputs": [],
   "source": [
    "similarity_measures = get_measures()"
   ]
  },
  {
   "cell_type": "code",
   "execution_count": 13,
   "id": "b87a34e8",
   "metadata": {},
   "outputs": [
    {
     "name": "stdout",
     "output_type": "stream",
     "text": [
      "Similarity1: 0.7401\n",
      "Similarity2: 0.5000\n",
      "Similarity3: 0.5850\n",
      "Similarity4: 0.4150\n",
      "Similarity5: 0.3775\n",
      "Similarity6: 0.2929\n",
      "Similarity7: 0.7071\n",
      "Similarity8: 0.5858\n",
      "Similarity9: 0.4142\n"
     ]
    }
   ],
   "source": [
    "# Dữ liệu test\n",
    "a = np.array([1.0, 2.0, 3.0, 4.0])\n",
    "b = np.array([1.5, 2.5, 3.5, 4.5])\n",
    "\n",
    "# Lấy tất cả các độ đo\n",
    "similarity_measures = get_measures()\n",
    "\n",
    "# Tính và in kết quả cho từng độ đo\n",
    "for s in similarity_measures:\n",
    "    result = s.compute(a,b)  # Gọi trực tiếp với tham số được đặt tên\n",
    "    print(f\"{s.__class__.__name__}: {result:.4f}\")\n"
   ]
  }
 ],
 "metadata": {
  "kernelspec": {
   "display_name": "imnfs-JC0cENLV-py3.11",
   "language": "python",
   "name": "python3"
  },
  "language_info": {
   "codemirror_mode": {
    "name": "ipython",
    "version": 3
   },
   "file_extension": ".py",
   "mimetype": "text/x-python",
   "name": "python",
   "nbconvert_exporter": "python",
   "pygments_lexer": "ipython3",
   "version": "3.11.9"
  }
 },
 "nbformat": 4,
 "nbformat_minor": 5
}
